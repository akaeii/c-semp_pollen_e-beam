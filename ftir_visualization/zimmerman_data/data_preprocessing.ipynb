{
 "cells": [
  {
   "cell_type": "code",
   "execution_count": 2,
   "metadata": {},
   "outputs": [],
   "source": [
    "import warnings\n",
    "warnings.simplefilter(action='ignore', category=FutureWarning)\n",
    "\n",
    "import pandas as pd\n",
    "from matplotlib import pyplot as plt\n",
    "import numpy as np"
   ]
  },
  {
   "cell_type": "code",
   "execution_count": 3,
   "metadata": {},
   "outputs": [],
   "source": [
    "zim_sheet = pd.read_excel('data/zimmerman_data_sheet_2.xlsx', sheet_name='FTIR')"
   ]
  },
  {
   "cell_type": "code",
   "execution_count": 4,
   "metadata": {},
   "outputs": [],
   "source": [
    "sample_names = zim_sheet.iloc[:,1]"
   ]
  },
  {
   "cell_type": "code",
   "execution_count": 28,
   "metadata": {},
   "outputs": [],
   "source": [
    "order_pinales = sample_names[sample_names.str.contains(pat='^PPin', regex=True, na=False)]"
   ]
  },
  {
   "cell_type": "code",
   "execution_count": 36,
   "metadata": {},
   "outputs": [],
   "source": [
    "pinales_samples = np.array_split(order_pinales,len(order_pinales)/3)"
   ]
  },
  {
   "cell_type": "code",
   "execution_count": 44,
   "metadata": {},
   "outputs": [],
   "source": [
    "zimmer_pinales_ftir_abs_ave = pd.DataFrame()"
   ]
  },
  {
   "cell_type": "code",
   "execution_count": 57,
   "metadata": {},
   "outputs": [],
   "source": [
    "for chunk in pinales_samples:\n",
    "    species = zim_sheet.iloc[chunk.index[0],0]\n",
    "    sample_abs = pd.DataFrame()\n",
    "    for index, sample in zip(chunk.index, chunk):\n",
    "        sample_abs[sample] = zim_sheet.iloc[index, 2:]\n",
    "\n",
    "    sample_abs['average'] = sample_abs.iloc[:,:].mean(axis=1)\n",
    "    zimmer_pinales_ftir_abs_ave[species] = sample_abs['average']\n"
   ]
  },
  {
   "cell_type": "code",
   "execution_count": 59,
   "metadata": {},
   "outputs": [],
   "source": [
    "zimmer_pinales_ftir_abs_ave.to_csv('zimmer_pinales_ftir_abs_ave.csv', index=False)"
   ]
  }
 ],
 "metadata": {
  "kernelspec": {
   "display_name": "Python 3",
   "language": "python",
   "name": "python3"
  },
  "language_info": {
   "codemirror_mode": {
    "name": "ipython",
    "version": 3
   },
   "file_extension": ".py",
   "mimetype": "text/x-python",
   "name": "python",
   "nbconvert_exporter": "python",
   "pygments_lexer": "ipython3",
   "version": "3.11.9"
  }
 },
 "nbformat": 4,
 "nbformat_minor": 2
}

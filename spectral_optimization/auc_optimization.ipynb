{
 "cells": [
  {
   "cell_type": "markdown",
   "id": "3218421a-4b05-494c-ba0f-800befd34efd",
   "metadata": {},
   "source": [
    "<center><b><h1>Area Under the Curve (Simpson's Rule)</h1></b></center>\n",
    "<center><a href=\"https://www.intmath.com/integration/6-simpsons-rule.php\">Simpson's Rule</a><center>"
   ]
  },
  {
   "cell_type": "code",
   "execution_count": 25,
   "id": "f58dd9a1-755c-47d4-9667-355239425d2b",
   "metadata": {},
   "outputs": [],
   "source": [
    "import pandas as pd\n",
    "import numpy as np\n",
    "import glob\n",
    "from scipy import integrate\n",
    "from matplotlib import pyplot as plt\n",
    "\n",
    "%matplotlib widget"
   ]
  },
  {
   "cell_type": "code",
   "execution_count": 26,
   "id": "da0a863f-8128-4d4e-89da-57255d6eba97",
   "metadata": {},
   "outputs": [],
   "source": [
    "csv_paths = glob.glob('raw_pollen_spectra/*_scans.csv')\n",
    "data_frames = [pd.read_csv(path) for path in csv_paths]\n",
    "scan_16, scan_24, scan_32, scan_48, scan_64, scan_72 = data_frames [:]"
   ]
  },
  {
   "cell_type": "code",
   "execution_count": 24,
   "id": "8bc023a6-d6f4-4836-b3ee-44660e6aa527",
   "metadata": {},
   "outputs": [],
   "source": [
    "%reset -f"
   ]
  }
 ],
 "metadata": {
  "kernelspec": {
   "display_name": "Python 3 (ipykernel)",
   "language": "python",
   "name": "python3"
  },
  "language_info": {
   "codemirror_mode": {
    "name": "ipython",
    "version": 3
   },
   "file_extension": ".py",
   "mimetype": "text/x-python",
   "name": "python",
   "nbconvert_exporter": "python",
   "pygments_lexer": "ipython3",
   "version": "3.11.9"
  }
 },
 "nbformat": 4,
 "nbformat_minor": 5
}

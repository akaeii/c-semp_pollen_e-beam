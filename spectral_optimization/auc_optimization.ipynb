{
 "cells": [
  {
   "cell_type": "markdown",
   "id": "3218421a-4b05-494c-ba0f-800befd34efd",
   "metadata": {},
   "source": [
    "<center><b><h1>Area Under the Curve (Simpson's Rule)</h1></b></center>\n",
    "<center><a href=\"https://www.intmath.com/integration/6-simpsons-rule.php\">Simpson's Rule</a><center>"
   ]
  },
  {
   "cell_type": "code",
   "execution_count": 3,
   "id": "f58dd9a1-755c-47d4-9667-355239425d2b",
   "metadata": {},
   "outputs": [],
   "source": [
    "import pandas as pd\n",
    "import numpy as np\n",
    "from scipy import integrate\n",
    "from matplotlib import pyplot as plt\n",
    "\n",
    "%matplotlib widget"
   ]
  },
  {
   "cell_type": "code",
   "execution_count": 6,
   "id": "ce39b6b8-e703-4b8f-93fb-ac666b167e72",
   "metadata": {},
   "outputs": [],
   "source": [
    "#Loading Data\n",
    "scan_dict = {16:pd.read_csv('raw_pollen_spectra/16_scans.csv'),\n",
    "             24:pd.read_csv('raw_pollen_spectra/24_scans.csv'),\n",
    "             32:pd.read_csv('raw_pollen_spectra/32_scans.csv'),\n",
    "             48:pd.read_csv('raw_pollen_spectra/48_scans.csv'),\n",
    "             64:pd.read_csv('raw_pollen_spectra/64_scans.csv'),\n",
    "             72:pd.read_csv('raw_pollen_spectra/72_scans.csv')}\n",
    "\n",
    "#wavenumber dataframe\n",
    "wave_no_x = scan_dict[16]['wave_no']"
   ]
  }
 ],
 "metadata": {
  "kernelspec": {
   "display_name": "Python 3 (ipykernel)",
   "language": "python",
   "name": "python3"
  },
  "language_info": {
   "codemirror_mode": {
    "name": "ipython",
    "version": 3
   },
   "file_extension": ".py",
   "mimetype": "text/x-python",
   "name": "python",
   "nbconvert_exporter": "python",
   "pygments_lexer": "ipython3",
   "version": "3.11.9"
  }
 },
 "nbformat": 4,
 "nbformat_minor": 5
}

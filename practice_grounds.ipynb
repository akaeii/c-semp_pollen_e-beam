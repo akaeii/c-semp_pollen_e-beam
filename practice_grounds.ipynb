{
 "cells": [
  {
   "cell_type": "code",
   "execution_count": 2,
   "id": "c7ab0c76-dce0-4a5c-9c94-b54171702314",
   "metadata": {},
   "outputs": [],
   "source": [
    "class Person:\n",
    "    def __init__(self, pp_size, is_jew, is_virgin, hamas_subscription):\n",
    "        self.pp_size = pp_size #inches\n",
    "        self.is_jew = is_jew #bool\n",
    "        self.is_virgin = is_virgin #bool\n",
    "        self.hamas_subscription = hamas_subscription #expiration date (m/dd/yyyy)"
   ]
  },
  {
   "cell_type": "code",
   "execution_count": 3,
   "id": "1e46c845-4377-476b-bd57-9437ec296cb6",
   "metadata": {},
   "outputs": [],
   "source": [
    "ben_shapiro = Person(1, True, True, '4/20/2069')\n",
    "ben_netanyahu = Person (1.4, True, False, 'None')"
   ]
  },
  {
   "cell_type": "code",
   "execution_count": 11,
   "id": "94c516b9-7e04-4158-be0b-ee2be6e7fdeb",
   "metadata": {},
   "outputs": [],
   "source": [
    "import pandas as pd"
   ]
  },
  {
   "cell_type": "code",
   "execution_count": 23,
   "id": "388d234c-68dc-4cc8-886d-a8dcd9be2474",
   "metadata": {},
   "outputs": [
    {
     "data": {
      "text/plain": [
       "0   -1\n",
       "1   -5\n",
       "2   -7\n",
       "3   -3\n",
       "4   -8\n",
       "Name: Y, dtype: int64"
      ]
     },
     "execution_count": 23,
     "metadata": {},
     "output_type": "execute_result"
    }
   ],
   "source": [
    "sample = pd.DataFrame({\n",
    "    'X':[1,2,3,4,5],\n",
    "    'Y':[1,5,7,3,8]\n",
    "    })\n",
    "\n",
    "sample_neg = sample['Y'] * -1\n",
    "sample_neg"
   ]
  },
  {
   "cell_type": "code",
   "execution_count": 25,
   "id": "a19770ad-fdd0-4c5e-ae29-2ffd4104238d",
   "metadata": {},
   "outputs": [
    {
     "data": {
      "text/html": [
       "<div>\n",
       "<style scoped>\n",
       "    .dataframe tbody tr th:only-of-type {\n",
       "        vertical-align: middle;\n",
       "    }\n",
       "\n",
       "    .dataframe tbody tr th {\n",
       "        vertical-align: top;\n",
       "    }\n",
       "\n",
       "    .dataframe thead th {\n",
       "        text-align: right;\n",
       "    }\n",
       "</style>\n",
       "<table border=\"1\" class=\"dataframe\">\n",
       "  <thead>\n",
       "    <tr style=\"text-align: right;\">\n",
       "      <th></th>\n",
       "      <th>X</th>\n",
       "    </tr>\n",
       "  </thead>\n",
       "  <tbody>\n",
       "    <tr>\n",
       "      <th>0</th>\n",
       "      <td>1</td>\n",
       "    </tr>\n",
       "    <tr>\n",
       "      <th>1</th>\n",
       "      <td>2</td>\n",
       "    </tr>\n",
       "    <tr>\n",
       "      <th>2</th>\n",
       "      <td>3</td>\n",
       "    </tr>\n",
       "    <tr>\n",
       "      <th>3</th>\n",
       "      <td>4</td>\n",
       "    </tr>\n",
       "    <tr>\n",
       "      <th>4</th>\n",
       "      <td>5</td>\n",
       "    </tr>\n",
       "  </tbody>\n",
       "</table>\n",
       "</div>"
      ],
      "text/plain": [
       "   X\n",
       "0  1\n",
       "1  2\n",
       "2  3\n",
       "3  4\n",
       "4  5"
      ]
     },
     "execution_count": 25,
     "metadata": {},
     "output_type": "execute_result"
    }
   ],
   "source": [
    "sample_2 = pd.DataFrame(sample['X'])\n",
    "sample_2"
   ]
  }
 ],
 "metadata": {
  "kernelspec": {
   "display_name": "Python 3 (ipykernel)",
   "language": "python",
   "name": "python3"
  },
  "language_info": {
   "codemirror_mode": {
    "name": "ipython",
    "version": 3
   },
   "file_extension": ".py",
   "mimetype": "text/x-python",
   "name": "python",
   "nbconvert_exporter": "python",
   "pygments_lexer": "ipython3",
   "version": "3.11.9"
  }
 },
 "nbformat": 4,
 "nbformat_minor": 5
}

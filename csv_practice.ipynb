{
 "cells": [
  {
   "cell_type": "code",
   "execution_count": 4,
   "id": "036f764d-1a2f-4cc6-ba15-2440d2ee19ae",
   "metadata": {},
   "outputs": [],
   "source": [
    "import csv\n",
    "import os"
   ]
  },
  {
   "cell_type": "code",
   "execution_count": null,
   "id": "80ad93c6-55ce-4d19-abb1-a3015c60dff4",
   "metadata": {},
   "outputs": [],
   "source": [
    "input_file = 'dpt_practice.dpt'\n",
    "input_file_path = os.path\n",
    "\n",
    "with open('dpt_practice.dpt', 'r', newline='') as dpt:\n",
    "    read_dpt = csv.reader(dpt)\n",
    "    with open('', 'w', newline='') as out_csv:\n",
    "        csv_writer = csv.writer(out_csv)\n",
    "        for row in read_dpt:\n",
    "            for item in row:\n",
    "                cleaned = [x for x in item.split('\\t')]\n",
    "                csv_writer.writerow(cleaned)"
   ]
  },
  {
   "cell_type": "code",
   "execution_count": null,
   "id": "96ab9a60-4e59-4959-9ea6-6c6374ef090f",
   "metadata": {},
   "outputs": [],
   "source": [
    "with open('csv_practice_output.csv', 'r') as test_csv:\n",
    "    read = csv.reader(test_csv)\n",
    "    for row in read:\n",
    "        print(row)"
   ]
  },
  {
   "cell_type": "code",
   "execution_count": 9,
   "id": "aa2dd9b1-de8d-42eb-b1b8-b53e47d32cc5",
   "metadata": {},
   "outputs": [],
   "source": [
    "def dpt2csv(dpt_path, main_name, output_name):   \n",
    "    csv_name = dpt_path.replace(main_name, output_name).replace('dpt', 'csv')\n",
    "    os.makedirs(os.path.dirname(csv_name), exist_ok=True)\n",
    "    \n",
    "    with open(dpt_path, 'r', newline='') as dpt_file:\n",
    "        read_dpt = csv.reader(dpt_file)\n",
    "        with open(csv_dir, 'w', newline='') as csv_file:\n",
    "            csv_writer = csv.writer(csv_file)           \n",
    "            for row in read_dpt:\n",
    "                for element in row:\n",
    "                    cleaned = [x for x in element.split('\\t')]\n",
    "                    csv.writer.writerow(cleaned)\n"
   ]
  }
 ],
 "metadata": {
  "kernelspec": {
   "display_name": "Python 3 (ipykernel)",
   "language": "python",
   "name": "python3"
  },
  "language_info": {
   "codemirror_mode": {
    "name": "ipython",
    "version": 3
   },
   "file_extension": ".py",
   "mimetype": "text/x-python",
   "name": "python",
   "nbconvert_exporter": "python",
   "pygments_lexer": "ipython3",
   "version": "3.11.9"
  }
 },
 "nbformat": 4,
 "nbformat_minor": 5
}

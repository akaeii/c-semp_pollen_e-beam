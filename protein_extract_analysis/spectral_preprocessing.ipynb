{
 "cells": [
  {
   "cell_type": "code",
   "execution_count": 2,
   "metadata": {},
   "outputs": [],
   "source": [
    "import pandas as pd\n",
    "import os\n",
    "import glob\n",
    "import re"
   ]
  },
  {
   "cell_type": "code",
   "execution_count": 3,
   "metadata": {},
   "outputs": [],
   "source": [
    "input_path = \"./pollen_protein_extract_spectra_raw\"\n",
    "scan_no_dirs = glob.glob(f\"{input_path}/* Scans\")\n",
    "\n",
    "scan_numbers = [16, 24, 32, 48, 64, 72]"
   ]
  },
  {
   "cell_type": "code",
   "execution_count": 5,
   "metadata": {},
   "outputs": [],
   "source": [
    "for s_number, scan_no  in zip(scan_numbers, scan_no_dirs):\n",
    "    protein_extract_spectra = pd.DataFrame()\n",
    "\n",
    "    sample_dirs = glob.glob(f\"{scan_no}/Sample*\")\n",
    "    sample_dirs = sorted(sample_dirs, key=lambda x: int(re.findall(r\"Sample \\d+\", x)[0].split(\" \")[-1]))\n",
    "\n",
    "    for sample_no, sample in enumerate(sample_dirs, start=1):\n",
    "        quadrant_dirs = glob.glob(f\"{sample}/*.dpt\")\n",
    "        compiled_quadrants = pd.DataFrame()\n",
    "\n",
    "        for quadrant_no, quadrant in enumerate(quadrant_dirs, start=1):\n",
    "            quadrant_df = pd.read_csv(quadrant, names=['wavenumber', 'absorbance'])\n",
    "            compiled_quadrants[f\"quadrant{quadrant_no}\"] = quadrant_df['absorbance']\n",
    "\n",
    "        protein_extract_spectra[f'protein_extract_scan{s_number}_sample{sample_no}'] = compiled_quadrants.mean(axis=1)\n",
    "\n",
    "    protein_extract_spectra.to_csv(f'protein_extract_spectra/protein_extract_scan{s_number}.csv', index=False)"
   ]
  }
 ],
 "metadata": {
  "kernelspec": {
   "display_name": "venv",
   "language": "python",
   "name": "python3"
  },
  "language_info": {
   "codemirror_mode": {
    "name": "ipython",
    "version": 3
   },
   "file_extension": ".py",
   "mimetype": "text/x-python",
   "name": "python",
   "nbconvert_exporter": "python",
   "pygments_lexer": "ipython3",
   "version": "3.13.2"
  }
 },
 "nbformat": 4,
 "nbformat_minor": 2
}
